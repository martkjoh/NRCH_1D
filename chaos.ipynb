{
 "cells": [
  {
   "cell_type": "code",
   "execution_count": null,
   "metadata": {},
   "outputs": [],
   "source": [
    "import numpy as np\n",
    "import matplotlib.pyplot as plt\n",
    "from matplotlib import cm\n",
    "\n",
    "import os, sys\n",
    "sys.path.insert(0, os.path.abspath(\"./\"))\n",
    "from loadfiles import *"
   ]
  },
  {
   "cell_type": "code",
   "execution_count": null,
   "metadata": {},
   "outputs": [],
   "source": [
    "folder = \"data/chaotic/\"\n",
    "fnames = get_all_filenames_in_folder(folder)\n",
    "filename = fnames[0]\n",
    "filename = filename[:-4]\n",
    "\n",
    "param = param_from_filename(filename)\n",
    "\n",
    "phit, param = load_file(folder, filename)\n",
    "u, a, b, phibar1, phibar2, N, L, T, dt = param\n",
    "\n",
    "M = len(phit)\n",
    "t = np.linspace(0, T, M)\n",
    "dx = L / N"
   ]
  },
  {
   "cell_type": "code",
   "execution_count": null,
   "metadata": {},
   "outputs": [],
   "source": [
    "fig, ax = plt.subplots(4, figsize=(20, 40))\n",
    "\n",
    "T0s = [0, 2000, 4000, 8000]\n",
    "DTs = [M, 1000, 1000, 1000]\n",
    "\n",
    "n = 4\n",
    "x0s = np.linspace(0, N*(1-1/n), n, dtype=int)\n",
    "\n",
    "for i in range(len(T0s)):\n",
    "    T0 = T0s[i]\n",
    "    DT = DTs[i]\n",
    "    A, B = T0, T0+DT\n",
    "    for j, x0 in enumerate(x0s):\n",
    "        ax[i].plot(t[A:B], phit[A:B, x0, 1], color=cm.viridis(j/n), alpha=1, lw=.4)\n",
    "\n",
    "plt.show()"
   ]
  },
  {
   "cell_type": "code",
   "execution_count": null,
   "metadata": {},
   "outputs": [],
   "source": [
    "\n",
    "fig, ax = plt.subplots(figsize=(20, 10), dpi=100)\n",
    "\n",
    "T0s = [0, 2000, 4000, 8000]\n",
    "DTs = [M, 1000, 1000, 1000]\n",
    "\n",
    "n = 1\n",
    "# x0s = np.linspace(0, N*(1-1/n), n, dtype=int)\n",
    "\n",
    "A = 3350\n",
    "B = 3380\n",
    "ax.plot(t[A:B], phit[A:B, x0, 1],\"o-\", color=cm.viridis(0), alpha=1, lw=.4)\n",
    "\n",
    "plt.show()"
   ]
  },
  {
   "cell_type": "code",
   "execution_count": null,
   "metadata": {},
   "outputs": [],
   "source": [
    "fig, ax = plt.subplots(figsize=(20, 10), dpi=500)\n",
    "\n",
    "def running_mean(x, N):\n",
    "    return np.array([np.sum(x[n-N:n+N]) / (2*N) for n in range(len(x))])\n",
    "\n",
    "\n",
    "T0s = [0, 2000, 4000, 8000]\n",
    "DTs = [M, 1000, 1000, 1000]\n",
    "\n",
    "n = 10\n",
    "x0s = np.linspace(0, N*(1-1/n), n, dtype=int)\n",
    "for j, x0 in enumerate(x0s):\n",
    "    ph = phit[:, x0, 1]\n",
    "    ph = running_mean(ph, 50)\n",
    "    ax.plot(t, ph, color=cm.viridis(j/n), alpha=.8, lw=.4)\n",
    "plt.show()"
   ]
  },
  {
   "cell_type": "code",
   "execution_count": null,
   "metadata": {},
   "outputs": [],
   "source": [
    "# fig, ax = plt.subplots(1, figsize=(20, 10), dpi=400)\n",
    "\n",
    "# x0 = 0\n",
    "# phiw = np.fft.fft(phit[:, x0, 1])\n",
    "# w = np.linspace(0, 1, M)\n",
    "# ax.plot(w[:M//2], phiw[:M//2].real, lw=.2)\n",
    "# ax.plot(w[:M//2], phiw[:M//2].imag, lw=.2)\n",
    "# ax.set_ylim(-40, 40)\n",
    "\n",
    "# plt.show()"
   ]
  },
  {
   "cell_type": "code",
   "execution_count": null,
   "metadata": {},
   "outputs": [],
   "source": [
    "fig, ax = plt.subplots(1, figsize=(20, 10), dpi=400)\n",
    "\n",
    "x0 = 100\n",
    "\n",
    "# ax.set_ylim(0, 80)\n",
    "\n",
    "n = 10\n",
    "x0s = np.linspace(0, N*(1-1/n), n, dtype=int)\n",
    "for j, x0 in enumerate(x0s):\n",
    "    ph = phit[:, x0, 1]\n",
    "    # ph = np.hanning(M) * ph\n",
    "    phiw = np.fft.fft(ph)\n",
    "    w = np.linspace(0, 1, M)\n",
    "    pw = np.abs(phiw[:M//2])\n",
    "    # pw = running_mean(pw, 100)\n",
    "    ax.loglog(w[:M//2], pw, color=cm.viridis(j/n), alpha=.6, lw=.2)\n",
    "\n",
    "ax.set_xlim(1e-3, .3)\n",
    "plt.show()"
   ]
  },
  {
   "cell_type": "code",
   "execution_count": null,
   "metadata": {},
   "outputs": [],
   "source": [
    "fig, ax = plt.subplots(1, figsize=(20, 10), dpi=400)\n",
    "\n",
    "x0 = 100\n",
    "\n",
    "# ax.set_ylim(0, 80)\n",
    "\n",
    "n = 10\n",
    "x0s = np.linspace(0, N*(1-1/n), n, dtype=int)\n",
    "for j, x0 in enumerate(x0s):\n",
    "    ph = phit[:, x0, 1]\n",
    "    phiw = np.fft.fft(ph)\n",
    "    w = np.linspace(0, 1, M)\n",
    "    pw = np.abs(phiw[:M//2])\n",
    "    ax.loglog(w[:M//2], pw, color=cm.viridis(j/n), alpha=.6, lw=.2)\n",
    "plt.show()\n",
    "\n",
    "plt.show()"
   ]
  },
  {
   "cell_type": "code",
   "execution_count": null,
   "metadata": {},
   "outputs": [],
   "source": [
    "# fig, ax = plt.subplots(1, figsize=(20, 10), dpi=400)\n",
    "\n",
    "# x0 = 0\n",
    "# phiw = np.fft.fft(phit[:, x0, 1])\n",
    "# w = np.linspace(0, 1, M)\n",
    "# ax.plot(w[:M//2], phiw[:M//2].real, lw=.2)\n",
    "# ax.plot(w[:M//2], phiw[:M//2].imag, lw=.2)\n",
    "# ax.set_xlim(-0.001, 0.03)\n",
    "\n",
    "# plt.show()"
   ]
  },
  {
   "cell_type": "code",
   "execution_count": null,
   "metadata": {},
   "outputs": [],
   "source": [
    "# fig, ax = plt.subplots(1, figsize=(20, 10), dpi=400)\n",
    "\n",
    "# x0 = 0\n",
    "# phiw = np.fft.fft(running_mean(phit[:, x0, 1], 100))\n",
    "# # phiw = running_mean(np.fft.fft(phit[:, x0, 1]), 10)\n",
    "# w = np.linspace(0, 1, M)\n",
    "# ax.plot(w[:M//2], phiw[:M//2].real, lw=.2)\n",
    "# ax.plot(w[:M//2], phiw[:M//2].imag, lw=.2)\n",
    "# ax.set_ylim(-40, 40)\n",
    "\n",
    "# plt.show()"
   ]
  },
  {
   "cell_type": "code",
   "execution_count": null,
   "metadata": {},
   "outputs": [],
   "source": [
    "fnames = get_all_filenames_in_folder(folder)\n",
    "filename = fnames[2]\n",
    "filename = filename[:-4]\n",
    "\n",
    "param = param_from_filename(filename)\n",
    "\n",
    "phit, param = load_file(folder, filename)\n",
    "u, a, b, phibar1, phibar2, N, L, T, dt = param\n",
    "\n",
    "M = len(phit)\n",
    "t = np.linspace(0, T, M)\n",
    "dx = L / N"
   ]
  },
  {
   "cell_type": "code",
   "execution_count": null,
   "metadata": {},
   "outputs": [],
   "source": [
    "fig, ax = plt.subplots(4, figsize=(20, 40))\n",
    "\n",
    "T0s = [0, 2000, 4000, 8000]\n",
    "DTs = [M, 500, 500, 500]\n",
    "\n",
    "n = 1\n",
    "x0s = np.linspace(0, N*(1-1/n), n, dtype=int)\n",
    "\n",
    "for i in range(len(T0s)):\n",
    "    T0 = T0s[i]\n",
    "    DT = DTs[i]\n",
    "    A, B = T0, T0+DT\n",
    "    for j, x0 in enumerate(x0s):\n",
    "        ax[i].plot(t[A:B], phit[A:B, x0, 1], color=cm.viridis(j/n), alpha=1, lw=.4)\n",
    "\n",
    "plt.show()"
   ]
  },
  {
   "cell_type": "code",
   "execution_count": null,
   "metadata": {},
   "outputs": [],
   "source": [
    "fig, ax = plt.subplots(1, figsize=(20, 10), dpi=400)\n",
    "\n",
    "x0 = 0\n",
    "phiw = np.fft.fft(phit[:, x0, 1])\n",
    "w = np.linspace(0, 1, M)\n",
    "pw = np.abs(phiw[:M//2])\n",
    "ax.loglog(w[:M//2], pw, lw=.2)\n",
    "# ax.set_ylim(0, 80)\n",
    "\n",
    "plt.show()"
   ]
  },
  {
   "cell_type": "code",
   "execution_count": null,
   "metadata": {},
   "outputs": [],
   "source": [
    "fig, ax = plt.subplots(1, figsize=(20, 10), dpi=400)\n",
    "\n",
    "x0 = 0\n",
    "ham = np.hanning(M)\n",
    "phiw = np.fft.fft(ham*phit[:, x0, 1])\n",
    "w = np.linspace(0, 1, M)\n",
    "pw = np.abs(phiw[:M//2])\n",
    "ax.loglog(w[:M//2], pw, lw=.2)\n",
    "# ax.set_ylim(0, 80)\n",
    "\n",
    "plt.show()"
   ]
  },
  {
   "cell_type": "code",
   "execution_count": null,
   "metadata": {},
   "outputs": [],
   "source": [
    "folder = \"data/test/\"\n",
    "fnames = get_all_filenames_in_folder(folder)\n",
    "filename = fnames[0]\n",
    "filename = filename[:-4]\n",
    "\n",
    "param = param_from_filename(filename)\n",
    "\n",
    "phit, param = load_file(folder, filename)\n",
    "u, a, b, phibar1, phibar2, N, L, T, dt = param\n",
    "\n",
    "M = len(phit)\n",
    "t = np.linspace(0, T, M)\n",
    "dx = L / N"
   ]
  },
  {
   "cell_type": "code",
   "execution_count": null,
   "metadata": {},
   "outputs": [],
   "source": [
    "fig, ax = plt.subplots(4, figsize=(20, 40))\n",
    "\n",
    "T0s = [0, 2000, 4000, 8000]\n",
    "DTs = [M, 1000, 1000, 1000]\n",
    "\n",
    "n = 4\n",
    "x0s = np.linspace(0, N*(1-1/n), n, dtype=int)\n",
    "\n",
    "for i in range(len(T0s)):\n",
    "    T0 = T0s[i]\n",
    "    DT = DTs[i]\n",
    "    A, B = T0, T0+DT\n",
    "    for j, x0 in enumerate(x0s):\n",
    "        ax[i].plot(t[A:B], phit[A:B, x0, 1], color=cm.viridis(j/n), alpha=1, lw=.4)\n",
    "\n",
    "plt.show()"
   ]
  },
  {
   "cell_type": "code",
   "execution_count": null,
   "metadata": {},
   "outputs": [],
   "source": [
    "fig, ax = plt.subplots(1, figsize=(20, 10), dpi=400)\n",
    "\n",
    "x0 = 400\n",
    "phiw = np.fft.fft(phit[:, x0, 1])\n",
    "w = np.linspace(0, 1, M)\n",
    "pw = np.abs(phiw[:M//2])\n",
    "ax.loglog(w[:M//2], pw, lw=.2)\n",
    "# ax.set_ylim(0, 80)\n",
    "\n",
    "plt.show()"
   ]
  },
  {
   "cell_type": "code",
   "execution_count": null,
   "metadata": {},
   "outputs": [],
   "source": [
    "fnames = get_all_filenames_in_folder(folder)\n",
    "filename = fnames[1]\n",
    "filename = filename[:-4]\n",
    "\n",
    "param = param_from_filename(filename)\n",
    "\n",
    "phit, param = load_file(folder, filename)\n",
    "u, a, b, phibar1, phibar2, N, L, T, dt = param\n",
    "\n",
    "M = len(phit)\n",
    "t = np.linspace(0, T, M)\n",
    "dx = L / N"
   ]
  },
  {
   "cell_type": "code",
   "execution_count": null,
   "metadata": {},
   "outputs": [],
   "source": [
    "T0s = [0,1000]\n",
    "DTs = [M,1000] \n",
    "m = len(T0s)\n",
    "\n",
    "fig, ax = plt.subplots(m, figsize=(20, 40))\n",
    "\n",
    "n = 10\n",
    "x0s = np.linspace(0, N*(1-1/n), n, dtype=int)\n",
    "for i in range(m):\n",
    "    T0 = T0s[i]\n",
    "    DT = DTs[i]\n",
    "    A, B = T0, T0+DT\n",
    "    for j, x0 in enumerate(x0s):\n",
    "        ph = phit[A:B, x0, 1]\n",
    "        ax[i].plot(t[A:B], ph, color=cm.viridis(j/n), alpha=1, lw=.4)\n",
    "\n",
    "plt.show()"
   ]
  },
  {
   "cell_type": "code",
   "execution_count": null,
   "metadata": {},
   "outputs": [],
   "source": [
    "T0s = [0,1000]\n",
    "DTs = [M,1000] \n",
    "m = len(T0s)\n",
    "\n",
    "fig, ax = plt.subplots(m, figsize=(20, 20), dpi=400)\n",
    "\n",
    "n = 10\n",
    "x0s = np.linspace(0, N*(1-1/n), n, dtype=int)\n",
    "for i in range(m):\n",
    "    T0 = T0s[i]\n",
    "    DT = DTs[i]\n",
    "    A, B = T0, T0+DT\n",
    "    for j, x0 in enumerate(x0s):\n",
    "        ph = running_mean(phit[A:B, x0, 1], 20)\n",
    "        ax[i].plot(t[A:B], ph, color=cm.viridis(j/n), alpha=1, lw=.4)\n",
    "\n",
    "plt.show()"
   ]
  },
  {
   "cell_type": "code",
   "execution_count": null,
   "metadata": {},
   "outputs": [],
   "source": [
    "fig, ax = plt.subplots(1, figsize=(20, 10), dpi=400)\n",
    "\n",
    "x0 = 0\n",
    "phiw = np.fft.fft(phit[:, x0, 1])\n",
    "w = np.linspace(0, 1, M)\n",
    "ax.plot(w[:M//2], phiw[:M//2].real, lw=.2)\n",
    "ax.plot(w[:M//2], phiw[:M//2].imag, lw=.2)\n",
    "ax.set_ylim(-40, 40)\n",
    "\n",
    "plt.show()"
   ]
  }
 ],
 "metadata": {
  "kernelspec": {
   "display_name": "Python 3",
   "language": "python",
   "name": "python3"
  },
  "language_info": {
   "codemirror_mode": {
    "name": "ipython",
    "version": 3
   },
   "file_extension": ".py",
   "mimetype": "text/x-python",
   "name": "python",
   "nbconvert_exporter": "python",
   "pygments_lexer": "ipython3",
   "version": "3.10.12"
  },
  "orig_nbformat": 4
 },
 "nbformat": 4,
 "nbformat_minor": 2
}
