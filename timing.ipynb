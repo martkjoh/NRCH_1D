{
 "cells": [
  {
   "cell_type": "code",
   "execution_count": null,
   "metadata": {},
   "outputs": [],
   "source": [
    "using BenchmarkTools\n",
    "using Plots\n",
    "\n",
    "const N = 1000\n",
    "const L = 2*π\n",
    "const dx = L / N\n",
    "\n",
    "# Finite difference coeficcients, https://en.wikipedia.org/wiki/Finite_difference_coefficient\n",
    "# const co = [1/2] / dx\n",
    "const co = [2/3, -1/12] / dx\n",
    "# const co = [3/4, -3/20, 1/60]  / dx\n",
    "# const co = [4/5, -1/5, 4/105, -1/280] / dx\n",
    "\n",
    "const order = length(co)\n",
    "\n",
    "@inline ind(i) = mod(i-1, N)+1\n",
    "\n",
    "@inline function ∇(A, i)\n",
    "\td = 0.\n",
    "\t@inbounds for j in 1:order\n",
    "\t\td += co[j]*( A[ind(i+j)] - A[ind(i-j)] ) \n",
    "\tend\n",
    "\treturn d\n",
    "end\n",
    "\n",
    "@inline function ∇T(A::Array{Float64}, i::Int)\n",
    "\td = 0.\n",
    "\t@inbounds for j in 1:order\n",
    "\t\td += co[j]*( A[ind(i+j)] - A[ind(i-j)] ) \n",
    "\tend\n",
    "\treturn d\n",
    "end"
   ]
  },
  {
   "cell_type": "code",
   "execution_count": null,
   "metadata": {},
   "outputs": [],
   "source": [
    "x = collect(LinRange(0, L-dx, N))\n",
    "y = sin.(2*π*x/L)\n",
    "@btime ∇T(y, 1)\n",
    "@btime ∇T($y, 1)\n",
    "@btime ∇(y, 1)\n",
    "@btime ∇($y, 1)"
   ]
  },
  {
   "cell_type": "code",
   "execution_count": null,
   "metadata": {},
   "outputs": [],
   "source": [
    "dy = zeros(N)\n",
    "\n",
    "function fT!(dy, y)\n",
    "    for i in axes(y,1)\n",
    "        dy[i] = ∇T(y, i)\n",
    "    end\n",
    "end\n",
    "\n",
    "function f!(dy, y)\n",
    "    for i in axes(y,1)\n",
    "        dy[i] = ∇(y, i)\n",
    "    end\n",
    "end\n",
    "\n",
    "fT!(dy, y)\n",
    "plot(x, y)\n",
    "plot!(x, dy)"
   ]
  },
  {
   "cell_type": "code",
   "execution_count": null,
   "metadata": {},
   "outputs": [],
   "source": [
    "@btime fT!($dy, $y)\n",
    "@btime f!(dy, y)\n",
    "@btime f!($dy, $y)"
   ]
  },
  {
   "cell_type": "code",
   "execution_count": null,
   "metadata": {},
   "outputs": [],
   "source": [
    "x  = zeros(N)\n",
    "x .= collect(LinRange(0, L-dx, N))\n",
    "\n",
    "z1 = zeros(N, 2)\n",
    "z1[:, 1] = sin.(2*π*x/L)\n",
    "z1[:, 2] = cos.(2*π*x/L)\n",
    "\n",
    "plot(x, z1[:, 1]) \n",
    "plot!(x, z1[:, 2])"
   ]
  },
  {
   "cell_type": "code",
   "execution_count": null,
   "metadata": {},
   "outputs": [],
   "source": [
    "@btime ∇T(y[:, 1], 1)\n",
    "@btime ∇T($y[:, 1], 1)\n",
    "@btime @views ∇(y[:, 1], 1)\n",
    "@btime @views ∇($y[:, 1], 1)"
   ]
  },
  {
   "cell_type": "code",
   "execution_count": null,
   "metadata": {},
   "outputs": [],
   "source": [
    "z1 = zeros(N, 2)\n",
    "@. @views z1[:, 1] = sin(x)\n",
    "@. @views z1[:, 2] = cos(x)\n",
    "\n",
    "dz1 = zeros(N, 2)\n",
    "\n",
    "function g1!(z1, dz1)\n",
    "    @inbounds for i in 1:N \n",
    "        @views dz1[i, 1] = ∇(z1[:, 1], i)\n",
    "        @views dz1[i, 2] = ∇(z1[:, 2], i)\n",
    "    end\n",
    "end\n",
    "\n",
    "g1!(z1, dz1)\n",
    "@btime g1!($z1, $dz1)"
   ]
  },
  {
   "cell_type": "code",
   "execution_count": null,
   "metadata": {},
   "outputs": [],
   "source": [
    "plot(x[:, 1], z1[:, 1])\n",
    "plot!(x[:, 1], dz1[:, 1])"
   ]
  },
  {
   "cell_type": "code",
   "execution_count": null,
   "metadata": {},
   "outputs": [],
   "source": [
    "z2 = zeros(2, N)\n",
    "z2[1, :] .= sin.(x)\n",
    "z2[2, :] .= cos.(x)\n",
    "\n",
    "dz2 = zeros(2, N)\n",
    "\n",
    "function g2!(z2, dz2)\n",
    "    @inbounds for i in 1:N\n",
    "        @views dz2[1, i] = ∇(z2[1, :], i)\n",
    "        @views dz2[2, i] = ∇(z2[2, :], i)\n",
    "    end\n",
    "end\n",
    "\n",
    "@btime g2!(z2, dz2)"
   ]
  },
  {
   "cell_type": "code",
   "execution_count": null,
   "metadata": {},
   "outputs": [],
   "source": [
    "@inline function ∇²(A, i)\n",
    "\td = 0.\n",
    "\t@inbounds for j in 1:order\n",
    "\t\td += co[j]*( ∇(A, ind(i+j)) - ∇(A, ind(i-j))  ) \n",
    "\tend\n",
    "\treturn d\n",
    "end"
   ]
  },
  {
   "cell_type": "code",
   "execution_count": null,
   "metadata": {},
   "outputs": [],
   "source": [
    "@btime ∇²(y, 1)\n",
    "@btime ∇²($y, 1)"
   ]
  },
  {
   "cell_type": "code",
   "execution_count": null,
   "metadata": {},
   "outputs": [],
   "source": [
    "dy = zeros(N)\n",
    "\n",
    "function f2!(dy, y)\n",
    "    @inbounds for i in 1:N\n",
    "        dy[i] = ∇²(y, i)\n",
    "    end\n",
    "end\n",
    "\n",
    "f!(dy, y)\n",
    "plot(x, y)\n",
    "plot!(x, dy)"
   ]
  },
  {
   "cell_type": "code",
   "execution_count": null,
   "metadata": {},
   "outputs": [],
   "source": [
    "@btime f!(dy, y)\n",
    "@btime f!($dy, $y)"
   ]
  },
  {
   "cell_type": "code",
   "execution_count": null,
   "metadata": {},
   "outputs": [],
   "source": [
    "@btime f2!(dy, y)\n",
    "@btime f2!($dy, $y)"
   ]
  },
  {
   "cell_type": "code",
   "execution_count": null,
   "metadata": {},
   "outputs": [],
   "source": [
    "z1 = zeros(N, 2)\n",
    "@. @views z1[:, 1] = sin(x)\n",
    "@. @views z1[:, 2] = cos(x)\n",
    "\n",
    "dz1 = zeros(N, 2)\n",
    "\n",
    "function h1!(z1, dz1)\n",
    "    @inbounds for i in 1:N \n",
    "        @views dz1[i, 1] = ∇²(z1[:, 1], i)\n",
    "        @views dz1[i, 2] = ∇²(z1[:, 2], i)\n",
    "    end\n",
    "end\n",
    "\n",
    "g1!(z1, dz1)\n",
    "@btime h1!($z1, $dz1)"
   ]
  },
  {
   "cell_type": "code",
   "execution_count": null,
   "metadata": {},
   "outputs": [],
   "source": [
    "plot(x, y)\n",
    "plot!(x, dy)"
   ]
  },
  {
   "cell_type": "code",
   "execution_count": null,
   "metadata": {},
   "outputs": [],
   "source": [
    "@inline ∇(A, i)  = co[1]  * (A[ind(i+1)] - A[ind(i-1)]) + co[2] * (A[ind(i+2)] - A[ind(i-2)])\n",
    "@inline ∇²(A, i) = co[1]  * (∇(A, i + 1) - ∇(A, i - 1)) + co[2] * (∇(A, i + 2) - ∇(A, i - 2))"
   ]
  },
  {
   "cell_type": "code",
   "execution_count": null,
   "metadata": {},
   "outputs": [],
   "source": [
    "z1 = zeros(N, 2)\n",
    "@. @views z1[:, 1] = sin(x)\n",
    "@. @views z1[:, 2] = cos(x)\n",
    "\n",
    "dz1 = zeros(N, 2)\n",
    "\n",
    "function F!(z1, dz1)\n",
    "    @inbounds for i in 1:N \n",
    "        @views dz1[i, 1] = ∇ol²(z1[:, 1], dx, i)\n",
    "        @views dz1[i, 2] = ∇ol²(z1[:, 2], dx,  i)\n",
    "    end\n",
    "end\n",
    "\n",
    "@btime F!($z1, $dz1)"
   ]
  },
  {
   "cell_type": "code",
   "execution_count": null,
   "metadata": {},
   "outputs": [],
   "source": [
    "@btime ∇ol²($y, dx, 1)"
   ]
  },
  {
   "cell_type": "code",
   "execution_count": null,
   "metadata": {},
   "outputs": [],
   "source": [
    "@btime ∇²($y, 1)"
   ]
  },
  {
   "cell_type": "code",
   "execution_count": null,
   "metadata": {},
   "outputs": [],
   "source": []
  }
 ],
 "metadata": {
  "kernelspec": {
   "display_name": "Julia 1.9.2",
   "language": "julia",
   "name": "julia-1.9"
  },
  "language_info": {
   "file_extension": ".jl",
   "mimetype": "application/julia",
   "name": "julia",
   "version": "1.9.2"
  },
  "orig_nbformat": 4
 },
 "nbformat": 4,
 "nbformat_minor": 2
}
